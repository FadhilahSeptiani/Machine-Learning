{
 "cells": [
  {
   "cell_type": "markdown",
   "metadata": {},
   "source": [
    "Jawaban 4A"
   ]
  },
  {
   "cell_type": "code",
   "execution_count": 4,
   "metadata": {},
   "outputs": [],
   "source": [
    "import pandas as pd\n",
    "import numpy as np"
   ]
  },
  {
   "cell_type": "markdown",
   "metadata": {},
   "source": [
    "Jawaban 4B"
   ]
  },
  {
   "cell_type": "code",
   "execution_count": 9,
   "metadata": {},
   "outputs": [
    {
     "name": "stdout",
     "output_type": "stream",
     "text": [
      "    Id,SepalLengthCm,SepalWidthCm,PetalLengthCm,PetalWidthCm,Species\n",
      "0                        1,5.1,3.5,1.4,0.2,Iris-setosa              \n",
      "1                        2,4.9,3.0,1.4,0.2,Iris-setosa              \n",
      "2                        3,4.7,3.2,1.3,0.2,Iris-setosa              \n",
      "3                        4,4.6,3.1,1.5,0.2,Iris-setosa              \n",
      "4                        5,5.0,3.6,1.4,0.2,Iris-setosa              \n",
      "..                                                 ...              \n",
      "145                 146,6.7,3.0,5.2,2.3,Iris-virginica              \n",
      "146                 147,6.3,2.5,5.0,1.9,Iris-virginica              \n",
      "147                 148,6.5,3.0,5.2,2.0,Iris-virginica              \n",
      "148                 149,6.2,3.4,5.4,2.3,Iris-virginica              \n",
      "149                 150,5.9,3.0,5.1,1.8,Iris-virginica              \n",
      "\n",
      "[150 rows x 1 columns]\n"
     ]
    }
   ],
   "source": [
    "df = pd.read_csv('Iris.csv')\n",
    "print(df)"
   ]
  },
  {
   "cell_type": "markdown",
   "metadata": {},
   "source": [
    "Jawaban 4C "
   ]
  },
  {
   "cell_type": "code",
   "execution_count": 12,
   "metadata": {},
   "outputs": [
    {
     "name": "stdout",
     "output_type": "stream",
     "text": [
      "Id,SepalLengthCm,SepalWidthCm,PetalLengthCm,PetalWidthCm,Species    object\n",
      "dtype: object\n"
     ]
    }
   ],
   "source": [
    "print(df.dtypes)"
   ]
  },
  {
   "cell_type": "markdown",
   "metadata": {},
   "source": [
    "Jawaban 4D"
   ]
  },
  {
   "cell_type": "markdown",
   "metadata": {},
   "source": [
    "Tipe data dari dataset diatas ialah : Object"
   ]
  },
  {
   "cell_type": "markdown",
   "metadata": {},
   "source": [
    "Jawaban 4E"
   ]
  },
  {
   "cell_type": "code",
   "execution_count": 13,
   "metadata": {},
   "outputs": [
    {
     "name": "stdout",
     "output_type": "stream",
     "text": [
      "150\n"
     ]
    }
   ],
   "source": [
    "row_count = df.shape[0]\n",
    "print(row_count)"
   ]
  },
  {
   "cell_type": "markdown",
   "metadata": {},
   "source": [
    "Jawaban 4F"
   ]
  },
  {
   "cell_type": "code",
   "execution_count": null,
   "metadata": {},
   "outputs": [],
   "source": [
    "df_subsets = df[['Id', 'Species']]\n",
    "print(df_subsets)"
   ]
  },
  {
   "cell_type": "markdown",
   "metadata": {},
   "source": [
    "Jawaban 4G"
   ]
  },
  {
   "cell_type": "code",
   "execution_count": 17,
   "metadata": {},
   "outputs": [
    {
     "name": "stdout",
     "output_type": "stream",
     "text": [
      "  Id,SepalLengthCm,SepalWidthCm,PetalLengthCm,PetalWidthCm,Species\n",
      "0                      1,5.1,3.5,1.4,0.2,Iris-setosa              \n",
      "1                      2,4.9,3.0,1.4,0.2,Iris-setosa              \n",
      "2                      3,4.7,3.2,1.3,0.2,Iris-setosa              \n",
      "3                      4,4.6,3.1,1.5,0.2,Iris-setosa              \n",
      "4                      5,5.0,3.6,1.4,0.2,Iris-setosa              \n",
      "5                      6,5.4,3.9,1.7,0.4,Iris-setosa              \n",
      "6                      7,4.6,3.4,1.4,0.3,Iris-setosa              \n",
      "7                      8,5.0,3.4,1.5,0.2,Iris-setosa              \n",
      "8                      9,4.4,2.9,1.4,0.2,Iris-setosa              \n",
      "9                     10,4.9,3.1,1.5,0.1,Iris-setosa              \n"
     ]
    }
   ],
   "source": [
    "print(df.iloc[0:10])"
   ]
  },
  {
   "cell_type": "markdown",
   "metadata": {},
   "source": [
    "Jawaban 4H"
   ]
  },
  {
   "cell_type": "code",
   "execution_count": null,
   "metadata": {},
   "outputs": [],
   "source": [
    "df_subset2 = df[['Id', 'Species']].iloc[11:16]\n",
    "print(df_subset2)"
   ]
  },
  {
   "cell_type": "markdown",
   "metadata": {},
   "source": [
    "Jawaban 4I"
   ]
  },
  {
   "cell_type": "code",
   "execution_count": 19,
   "metadata": {},
   "outputs": [
    {
     "name": "stdout",
     "output_type": "stream",
     "text": [
      "  Id,SepalLengthCm,SepalWidthCm,PetalLengthCm,PetalWidthCm,Species\n",
      "0                      1,5.1,3.5,1.4,0.2,Iris-setosa              \n",
      "1                      2,4.9,3.0,1.4,0.2,Iris-setosa              \n",
      "2                      3,4.7,3.2,1.3,0.2,Iris-setosa              \n",
      "3                      4,4.6,3.1,1.5,0.2,Iris-setosa              \n",
      "4                      5,5.0,3.6,1.4,0.2,Iris-setosa              \n",
      "5                      6,5.4,3.9,1.7,0.4,Iris-setosa              \n",
      "6                      7,4.6,3.4,1.4,0.3,Iris-setosa              \n",
      "7                      8,5.0,3.4,1.5,0.2,Iris-setosa              \n"
     ]
    }
   ],
   "source": [
    "print(df.head(8))"
   ]
  }
 ],
 "metadata": {
  "kernelspec": {
   "display_name": "Python 3.8.10 64-bit",
   "language": "python",
   "name": "python3"
  },
  "language_info": {
   "codemirror_mode": {
    "name": "ipython",
    "version": 3
   },
   "file_extension": ".py",
   "mimetype": "text/x-python",
   "name": "python",
   "nbconvert_exporter": "python",
   "pygments_lexer": "ipython3",
   "version": "3.8.10"
  },
  "orig_nbformat": 4,
  "vscode": {
   "interpreter": {
    "hash": "916dbcbb3f70747c44a77c7bcd40155683ae19c65e1c03b4aa3499c5328201f1"
   }
  }
 },
 "nbformat": 4,
 "nbformat_minor": 2
}
